{
 "cells": [
  {
   "cell_type": "code",
   "execution_count": 2,
   "id": "fa4cce58",
   "metadata": {},
   "outputs": [],
   "source": [
    "import pandas as pd\n",
    "import numpy as np\n",
    "import os"
   ]
  },
  {
   "cell_type": "code",
   "execution_count": null,
   "id": "ffa8d9d7",
   "metadata": {},
   "outputs": [
    {
     "name": "stdout",
     "output_type": "stream",
     "text": [
      "Error al leer archivo: [Errno 2] No such file or directory: 'c:\\\\Users\\\\57302\\\\Documents\\\\Documentos de la u\\\\semestre S\\\\ETL\\\\proyecto\\\\tercera entrega\\\\CrashTraffic.csv'\n",
      "Directorio actual: c:\\Users\\57302\\Documents\\Documentos de la u\\semestre 5\\ETL\\proyecto\\tercera entrega\\Traffic-Accidents-Airflow-Kafka\\notebooks\n",
      "Contenido: ['001_extract.ipynb', '002_EDA_csv.ipynb', 'prueva.ipynb']\n"
     ]
    }
   ],
   "source": [
    "import pandas as pd\n",
    "import os\n",
    "\n",
    "try:\n",
    "    # Intenta primero con ruta relativa\n",
    "    df = pd.read_csv(\"data/crashtraffic.csv\", sep=\",\", encoding=\"latin1\")\n",
    "    print(\"Archivo leído correctamente desde ruta relativa\")\n",
    "except FileNotFoundError:\n",
    "    try:\n",
    "        # Si falla, intenta con ruta absoluta\n",
    "        ruta = os.path.join(\n",
    "            \"c:\\\\\", \"Users\", \"57302\", \"Documents\", \"Documentos de la u\", \n",
    "            \"semestre S\", \"ETL\", \"proyecto\", \"tercera entrega\", \"CrashTraffic.csv\"\n",
    "        )\n",
    "        df = pd.read_csv(ruta)\n",
    "        print(\"Archivo leído correctamente desde ruta absoluta\")\n",
    "    except Exception as e:\n",
    "        print(f\"Error al leer archivo: {e}\")\n",
    "        # Muestra el directorio actual y su contenido\n",
    "        print(f\"Directorio actual: {os.getcwd()}\")\n",
    "        print(f\"Contenido: {os.listdir()}\")"
   ]
  }
 ],
 "metadata": {
  "kernelspec": {
   "display_name": "kafka_venv",
   "language": "python",
   "name": "python3"
  },
  "language_info": {
   "codemirror_mode": {
    "name": "ipython",
    "version": 3
   },
   "file_extension": ".py",
   "mimetype": "text/x-python",
   "name": "python",
   "nbconvert_exporter": "python",
   "pygments_lexer": "ipython3",
   "version": "3.11.1"
  }
 },
 "nbformat": 4,
 "nbformat_minor": 5
}
